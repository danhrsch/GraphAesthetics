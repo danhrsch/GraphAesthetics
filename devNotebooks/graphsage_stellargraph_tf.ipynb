{
  "cells": [
    {
      "cell_type": "markdown",
      "metadata": {
        "id": "LUfDagB7dkVo"
      },
      "source": [
        "# Link prediction with GraphSAGE - stellargraph & tensorflow"
      ]
    },
    {
      "cell_type": "code",
      "execution_count": 1,
      "metadata": {
        "nbsphinx": "hidden",
        "tags": [
          "CloudRunner"
        ],
        "id": "GwmGqbFGdkVu",
        "colab": {
          "base_uri": "https://localhost:8080/"
        },
        "outputId": "6d307e7f-5a2d-4505-a416-171bed4d240e"
      },
      "outputs": [
        {
          "output_type": "stream",
          "name": "stdout",
          "text": [
            "\u001b[K     |████████████████████████████████| 435 kB 9.8 MB/s \n",
            "\u001b[K     |████████████████████████████████| 482 kB 57.7 MB/s \n",
            "\u001b[K     |████████████████████████████████| 41 kB 541 kB/s \n",
            "\u001b[?25h  Building wheel for mplleaflet (setup.py) ... \u001b[?25l\u001b[?25hdone\n"
          ]
        }
      ],
      "source": [
        "# install StellarGraph if running on Google Colab\n",
        "import sys\n",
        "if 'google.colab' in sys.modules:\n",
        "  %pip install -q stellargraph[demos]==1.2.1"
      ]
    },
    {
      "cell_type": "code",
      "execution_count": 2,
      "metadata": {
        "nbsphinx": "hidden",
        "tags": [
          "VersionCheck"
        ],
        "id": "DJdSzMyedkVv"
      },
      "outputs": [],
      "source": [
        "# verify that we're using the correct version of StellarGraph for this notebook\n",
        "import stellargraph as sg\n",
        "\n",
        "try:\n",
        "    sg.utils.validate_notebook_version(\"1.2.1\")\n",
        "except AttributeError:\n",
        "    raise ValueError(\n",
        "        f\"This notebook requires StellarGraph version 1.2.1, but a different version {sg.__version__} is installed.  Please see <https://github.com/stellargraph/stellargraph/issues/1172>.\"\n",
        "    ) from None"
      ]
    },
    {
      "cell_type": "code",
      "execution_count": 33,
      "metadata": {
        "id": "I5yq9XROdkVw"
      },
      "outputs": [],
      "source": [
        "import stellargraph as sg\n",
        "from stellargraph.data import EdgeSplitter\n",
        "from stellargraph.mapper import GraphSAGELinkGenerator\n",
        "from stellargraph.layer import GraphSAGE, HinSAGE, link_classification\n",
        "\n",
        "from tensorflow import keras\n",
        "from sklearn import preprocessing, feature_extraction, model_selection\n",
        "\n",
        "from stellargraph import globalvar\n",
        "from stellargraph import datasets\n",
        "from IPython.display import display, HTML\n",
        "%matplotlib inline"
      ]
    },
    {
      "cell_type": "markdown",
      "metadata": {
        "id": "uZsDihghdkVx"
      },
      "source": [
        "## Load data"
      ]
    },
    {
      "cell_type": "code",
      "source": [
        "from google.colab import drive\n",
        "drive.mount('/content/drive', force_remount=True)\n",
        "COLAB = True"
      ],
      "metadata": {
        "colab": {
          "base_uri": "https://localhost:8080/"
        },
        "id": "k4CmMrWDuY5T",
        "outputId": "3e725ff2-4575-43eb-b033-c469049afa33"
      },
      "execution_count": 20,
      "outputs": [
        {
          "output_type": "stream",
          "name": "stdout",
          "text": [
            "Mounted at /content/drive\n"
          ]
        }
      ]
    },
    {
      "cell_type": "code",
      "source": [
        "import os\n",
        "import pandas as pd\n",
        "os.chdir('/content/drive/MyDrive/data/aesthetics') "
      ],
      "metadata": {
        "id": "JCXbDmZ-uhwG"
      },
      "execution_count": 24,
      "outputs": []
    },
    {
      "cell_type": "code",
      "source": [
        "df_links=pd.read_csv('annotated_links.csv',names=['source','target','k'])\n",
        "df_links=df_links.drop('k', axis=1)\n",
        "df_links.head()"
      ],
      "metadata": {
        "colab": {
          "base_uri": "https://localhost:8080/",
          "height": 206
        },
        "id": "iByzQCDXujAx",
        "outputId": "32c64418-4080-4a19-c561-6f968e34f310"
      },
      "execution_count": 47,
      "outputs": [
        {
          "output_type": "execute_result",
          "data": {
            "text/plain": [
              "     source    target\n",
              "0  ae4j.png  ae4h.png\n",
              "1  ae4j.png  ae5b.png\n",
              "2  ae6f.png  ae6a.png\n",
              "3  ae4e.png  ae4d.png\n",
              "4  ae5a.png  ae5c.png"
            ],
            "text/html": [
              "\n",
              "  <div id=\"df-a1035eb4-23b4-493d-afd1-2e3d04aeb6fd\">\n",
              "    <div class=\"colab-df-container\">\n",
              "      <div>\n",
              "<style scoped>\n",
              "    .dataframe tbody tr th:only-of-type {\n",
              "        vertical-align: middle;\n",
              "    }\n",
              "\n",
              "    .dataframe tbody tr th {\n",
              "        vertical-align: top;\n",
              "    }\n",
              "\n",
              "    .dataframe thead th {\n",
              "        text-align: right;\n",
              "    }\n",
              "</style>\n",
              "<table border=\"1\" class=\"dataframe\">\n",
              "  <thead>\n",
              "    <tr style=\"text-align: right;\">\n",
              "      <th></th>\n",
              "      <th>source</th>\n",
              "      <th>target</th>\n",
              "    </tr>\n",
              "  </thead>\n",
              "  <tbody>\n",
              "    <tr>\n",
              "      <th>0</th>\n",
              "      <td>ae4j.png</td>\n",
              "      <td>ae4h.png</td>\n",
              "    </tr>\n",
              "    <tr>\n",
              "      <th>1</th>\n",
              "      <td>ae4j.png</td>\n",
              "      <td>ae5b.png</td>\n",
              "    </tr>\n",
              "    <tr>\n",
              "      <th>2</th>\n",
              "      <td>ae6f.png</td>\n",
              "      <td>ae6a.png</td>\n",
              "    </tr>\n",
              "    <tr>\n",
              "      <th>3</th>\n",
              "      <td>ae4e.png</td>\n",
              "      <td>ae4d.png</td>\n",
              "    </tr>\n",
              "    <tr>\n",
              "      <th>4</th>\n",
              "      <td>ae5a.png</td>\n",
              "      <td>ae5c.png</td>\n",
              "    </tr>\n",
              "  </tbody>\n",
              "</table>\n",
              "</div>\n",
              "      <button class=\"colab-df-convert\" onclick=\"convertToInteractive('df-a1035eb4-23b4-493d-afd1-2e3d04aeb6fd')\"\n",
              "              title=\"Convert this dataframe to an interactive table.\"\n",
              "              style=\"display:none;\">\n",
              "        \n",
              "  <svg xmlns=\"http://www.w3.org/2000/svg\" height=\"24px\"viewBox=\"0 0 24 24\"\n",
              "       width=\"24px\">\n",
              "    <path d=\"M0 0h24v24H0V0z\" fill=\"none\"/>\n",
              "    <path d=\"M18.56 5.44l.94 2.06.94-2.06 2.06-.94-2.06-.94-.94-2.06-.94 2.06-2.06.94zm-11 1L8.5 8.5l.94-2.06 2.06-.94-2.06-.94L8.5 2.5l-.94 2.06-2.06.94zm10 10l.94 2.06.94-2.06 2.06-.94-2.06-.94-.94-2.06-.94 2.06-2.06.94z\"/><path d=\"M17.41 7.96l-1.37-1.37c-.4-.4-.92-.59-1.43-.59-.52 0-1.04.2-1.43.59L10.3 9.45l-7.72 7.72c-.78.78-.78 2.05 0 2.83L4 21.41c.39.39.9.59 1.41.59.51 0 1.02-.2 1.41-.59l7.78-7.78 2.81-2.81c.8-.78.8-2.07 0-2.86zM5.41 20L4 18.59l7.72-7.72 1.47 1.35L5.41 20z\"/>\n",
              "  </svg>\n",
              "      </button>\n",
              "      \n",
              "  <style>\n",
              "    .colab-df-container {\n",
              "      display:flex;\n",
              "      flex-wrap:wrap;\n",
              "      gap: 12px;\n",
              "    }\n",
              "\n",
              "    .colab-df-convert {\n",
              "      background-color: #E8F0FE;\n",
              "      border: none;\n",
              "      border-radius: 50%;\n",
              "      cursor: pointer;\n",
              "      display: none;\n",
              "      fill: #1967D2;\n",
              "      height: 32px;\n",
              "      padding: 0 0 0 0;\n",
              "      width: 32px;\n",
              "    }\n",
              "\n",
              "    .colab-df-convert:hover {\n",
              "      background-color: #E2EBFA;\n",
              "      box-shadow: 0px 1px 2px rgba(60, 64, 67, 0.3), 0px 1px 3px 1px rgba(60, 64, 67, 0.15);\n",
              "      fill: #174EA6;\n",
              "    }\n",
              "\n",
              "    [theme=dark] .colab-df-convert {\n",
              "      background-color: #3B4455;\n",
              "      fill: #D2E3FC;\n",
              "    }\n",
              "\n",
              "    [theme=dark] .colab-df-convert:hover {\n",
              "      background-color: #434B5C;\n",
              "      box-shadow: 0px 1px 3px 1px rgba(0, 0, 0, 0.15);\n",
              "      filter: drop-shadow(0px 1px 2px rgba(0, 0, 0, 0.3));\n",
              "      fill: #FFFFFF;\n",
              "    }\n",
              "  </style>\n",
              "\n",
              "      <script>\n",
              "        const buttonEl =\n",
              "          document.querySelector('#df-a1035eb4-23b4-493d-afd1-2e3d04aeb6fd button.colab-df-convert');\n",
              "        buttonEl.style.display =\n",
              "          google.colab.kernel.accessAllowed ? 'block' : 'none';\n",
              "\n",
              "        async function convertToInteractive(key) {\n",
              "          const element = document.querySelector('#df-a1035eb4-23b4-493d-afd1-2e3d04aeb6fd');\n",
              "          const dataTable =\n",
              "            await google.colab.kernel.invokeFunction('convertToInteractive',\n",
              "                                                     [key], {});\n",
              "          if (!dataTable) return;\n",
              "\n",
              "          const docLinkHtml = 'Like what you see? Visit the ' +\n",
              "            '<a target=\"_blank\" href=https://colab.research.google.com/notebooks/data_table.ipynb>data table notebook</a>'\n",
              "            + ' to learn more about interactive tables.';\n",
              "          element.innerHTML = '';\n",
              "          dataTable['output_type'] = 'display_data';\n",
              "          await google.colab.output.renderOutput(dataTable, element);\n",
              "          const docLink = document.createElement('div');\n",
              "          docLink.innerHTML = docLinkHtml;\n",
              "          element.appendChild(docLink);\n",
              "        }\n",
              "      </script>\n",
              "    </div>\n",
              "  </div>\n",
              "  "
            ]
          },
          "metadata": {},
          "execution_count": 47
        }
      ]
    },
    {
      "cell_type": "code",
      "source": [
        "df_nodes=pd.read_csv('colours.csv').set_index('ImgName')\n",
        "df_nodes.head()"
      ],
      "metadata": {
        "colab": {
          "base_uri": "https://localhost:8080/",
          "height": 346
        },
        "id": "746SmVSlvavR",
        "outputId": "ff20bb9a-94b6-4081-bd8c-0be8f0d33f0c"
      },
      "execution_count": 43,
      "outputs": [
        {
          "output_type": "execute_result",
          "data": {
            "text/plain": [
              "          steel  burnt siena  pink  dark brown  seagreen  lightskyblue  \\\n",
              "ImgName                                                                  \n",
              "ae1c.png   0.00          0.2  0.86        1.60      0.00          0.00   \n",
              "ae1b.png   2.70          0.0  3.33        1.00      0.45          0.77   \n",
              "ae1a.png   0.00          0.0  3.15        0.93      0.00          0.00   \n",
              "ae1d.png   1.29          0.0  3.45        0.75      0.00          0.00   \n",
              "ae5h.png   1.25          0.0  1.42        2.00      0.56          0.00   \n",
              "\n",
              "          vomit yellow  bright violet  denim blue  ugly pink  ...  \\\n",
              "ImgName                                                       ...   \n",
              "ae1c.png           0.0              0        0.00       2.88  ...   \n",
              "ae1b.png           0.0              0        1.40       1.79  ...   \n",
              "ae1a.png           0.0              0        0.00       2.77  ...   \n",
              "ae1d.png           0.0              0        0.97       2.13  ...   \n",
              "ae5h.png           0.0              0        0.81       1.71  ...   \n",
              "\n",
              "          seafoam blue  kiwi  light turquoise  washed out green  \\\n",
              "ImgName                                                           \n",
              "ae1c.png          0.00   0.0              0.0              0.76   \n",
              "ae1b.png          1.48   0.0              0.0              0.96   \n",
              "ae1a.png          0.00   0.0              0.0              0.35   \n",
              "ae1d.png          0.00   0.0              0.0              0.45   \n",
              "ae5h.png          0.00   0.0              0.0              0.00   \n",
              "\n",
              "          light bright green  cool grey  brown yellow  purply pink  \\\n",
              "ImgName                                                              \n",
              "ae1c.png                   0       1.91           0.0            0   \n",
              "ae1b.png                   0       3.47           0.0            0   \n",
              "ae1a.png                   0       1.54           0.0            0   \n",
              "ae1d.png                   0       1.79           0.0            0   \n",
              "ae5h.png                   0       2.68           0.0            0   \n",
              "\n",
              "          greyish green  purple  \n",
              "ImgName                          \n",
              "ae1c.png           1.00       0  \n",
              "ae1b.png           1.50       0  \n",
              "ae1a.png           1.18       0  \n",
              "ae1d.png           0.37       0  \n",
              "ae5h.png           0.69       0  \n",
              "\n",
              "[5 rows x 100 columns]"
            ],
            "text/html": [
              "\n",
              "  <div id=\"df-56574085-ee8f-4b44-a436-f43262606b32\">\n",
              "    <div class=\"colab-df-container\">\n",
              "      <div>\n",
              "<style scoped>\n",
              "    .dataframe tbody tr th:only-of-type {\n",
              "        vertical-align: middle;\n",
              "    }\n",
              "\n",
              "    .dataframe tbody tr th {\n",
              "        vertical-align: top;\n",
              "    }\n",
              "\n",
              "    .dataframe thead th {\n",
              "        text-align: right;\n",
              "    }\n",
              "</style>\n",
              "<table border=\"1\" class=\"dataframe\">\n",
              "  <thead>\n",
              "    <tr style=\"text-align: right;\">\n",
              "      <th></th>\n",
              "      <th>steel</th>\n",
              "      <th>burnt siena</th>\n",
              "      <th>pink</th>\n",
              "      <th>dark brown</th>\n",
              "      <th>seagreen</th>\n",
              "      <th>lightskyblue</th>\n",
              "      <th>vomit yellow</th>\n",
              "      <th>bright violet</th>\n",
              "      <th>denim blue</th>\n",
              "      <th>ugly pink</th>\n",
              "      <th>...</th>\n",
              "      <th>seafoam blue</th>\n",
              "      <th>kiwi</th>\n",
              "      <th>light turquoise</th>\n",
              "      <th>washed out green</th>\n",
              "      <th>light bright green</th>\n",
              "      <th>cool grey</th>\n",
              "      <th>brown yellow</th>\n",
              "      <th>purply pink</th>\n",
              "      <th>greyish green</th>\n",
              "      <th>purple</th>\n",
              "    </tr>\n",
              "    <tr>\n",
              "      <th>ImgName</th>\n",
              "      <th></th>\n",
              "      <th></th>\n",
              "      <th></th>\n",
              "      <th></th>\n",
              "      <th></th>\n",
              "      <th></th>\n",
              "      <th></th>\n",
              "      <th></th>\n",
              "      <th></th>\n",
              "      <th></th>\n",
              "      <th></th>\n",
              "      <th></th>\n",
              "      <th></th>\n",
              "      <th></th>\n",
              "      <th></th>\n",
              "      <th></th>\n",
              "      <th></th>\n",
              "      <th></th>\n",
              "      <th></th>\n",
              "      <th></th>\n",
              "      <th></th>\n",
              "    </tr>\n",
              "  </thead>\n",
              "  <tbody>\n",
              "    <tr>\n",
              "      <th>ae1c.png</th>\n",
              "      <td>0.00</td>\n",
              "      <td>0.2</td>\n",
              "      <td>0.86</td>\n",
              "      <td>1.60</td>\n",
              "      <td>0.00</td>\n",
              "      <td>0.00</td>\n",
              "      <td>0.0</td>\n",
              "      <td>0</td>\n",
              "      <td>0.00</td>\n",
              "      <td>2.88</td>\n",
              "      <td>...</td>\n",
              "      <td>0.00</td>\n",
              "      <td>0.0</td>\n",
              "      <td>0.0</td>\n",
              "      <td>0.76</td>\n",
              "      <td>0</td>\n",
              "      <td>1.91</td>\n",
              "      <td>0.0</td>\n",
              "      <td>0</td>\n",
              "      <td>1.00</td>\n",
              "      <td>0</td>\n",
              "    </tr>\n",
              "    <tr>\n",
              "      <th>ae1b.png</th>\n",
              "      <td>2.70</td>\n",
              "      <td>0.0</td>\n",
              "      <td>3.33</td>\n",
              "      <td>1.00</td>\n",
              "      <td>0.45</td>\n",
              "      <td>0.77</td>\n",
              "      <td>0.0</td>\n",
              "      <td>0</td>\n",
              "      <td>1.40</td>\n",
              "      <td>1.79</td>\n",
              "      <td>...</td>\n",
              "      <td>1.48</td>\n",
              "      <td>0.0</td>\n",
              "      <td>0.0</td>\n",
              "      <td>0.96</td>\n",
              "      <td>0</td>\n",
              "      <td>3.47</td>\n",
              "      <td>0.0</td>\n",
              "      <td>0</td>\n",
              "      <td>1.50</td>\n",
              "      <td>0</td>\n",
              "    </tr>\n",
              "    <tr>\n",
              "      <th>ae1a.png</th>\n",
              "      <td>0.00</td>\n",
              "      <td>0.0</td>\n",
              "      <td>3.15</td>\n",
              "      <td>0.93</td>\n",
              "      <td>0.00</td>\n",
              "      <td>0.00</td>\n",
              "      <td>0.0</td>\n",
              "      <td>0</td>\n",
              "      <td>0.00</td>\n",
              "      <td>2.77</td>\n",
              "      <td>...</td>\n",
              "      <td>0.00</td>\n",
              "      <td>0.0</td>\n",
              "      <td>0.0</td>\n",
              "      <td>0.35</td>\n",
              "      <td>0</td>\n",
              "      <td>1.54</td>\n",
              "      <td>0.0</td>\n",
              "      <td>0</td>\n",
              "      <td>1.18</td>\n",
              "      <td>0</td>\n",
              "    </tr>\n",
              "    <tr>\n",
              "      <th>ae1d.png</th>\n",
              "      <td>1.29</td>\n",
              "      <td>0.0</td>\n",
              "      <td>3.45</td>\n",
              "      <td>0.75</td>\n",
              "      <td>0.00</td>\n",
              "      <td>0.00</td>\n",
              "      <td>0.0</td>\n",
              "      <td>0</td>\n",
              "      <td>0.97</td>\n",
              "      <td>2.13</td>\n",
              "      <td>...</td>\n",
              "      <td>0.00</td>\n",
              "      <td>0.0</td>\n",
              "      <td>0.0</td>\n",
              "      <td>0.45</td>\n",
              "      <td>0</td>\n",
              "      <td>1.79</td>\n",
              "      <td>0.0</td>\n",
              "      <td>0</td>\n",
              "      <td>0.37</td>\n",
              "      <td>0</td>\n",
              "    </tr>\n",
              "    <tr>\n",
              "      <th>ae5h.png</th>\n",
              "      <td>1.25</td>\n",
              "      <td>0.0</td>\n",
              "      <td>1.42</td>\n",
              "      <td>2.00</td>\n",
              "      <td>0.56</td>\n",
              "      <td>0.00</td>\n",
              "      <td>0.0</td>\n",
              "      <td>0</td>\n",
              "      <td>0.81</td>\n",
              "      <td>1.71</td>\n",
              "      <td>...</td>\n",
              "      <td>0.00</td>\n",
              "      <td>0.0</td>\n",
              "      <td>0.0</td>\n",
              "      <td>0.00</td>\n",
              "      <td>0</td>\n",
              "      <td>2.68</td>\n",
              "      <td>0.0</td>\n",
              "      <td>0</td>\n",
              "      <td>0.69</td>\n",
              "      <td>0</td>\n",
              "    </tr>\n",
              "  </tbody>\n",
              "</table>\n",
              "<p>5 rows × 100 columns</p>\n",
              "</div>\n",
              "      <button class=\"colab-df-convert\" onclick=\"convertToInteractive('df-56574085-ee8f-4b44-a436-f43262606b32')\"\n",
              "              title=\"Convert this dataframe to an interactive table.\"\n",
              "              style=\"display:none;\">\n",
              "        \n",
              "  <svg xmlns=\"http://www.w3.org/2000/svg\" height=\"24px\"viewBox=\"0 0 24 24\"\n",
              "       width=\"24px\">\n",
              "    <path d=\"M0 0h24v24H0V0z\" fill=\"none\"/>\n",
              "    <path d=\"M18.56 5.44l.94 2.06.94-2.06 2.06-.94-2.06-.94-.94-2.06-.94 2.06-2.06.94zm-11 1L8.5 8.5l.94-2.06 2.06-.94-2.06-.94L8.5 2.5l-.94 2.06-2.06.94zm10 10l.94 2.06.94-2.06 2.06-.94-2.06-.94-.94-2.06-.94 2.06-2.06.94z\"/><path d=\"M17.41 7.96l-1.37-1.37c-.4-.4-.92-.59-1.43-.59-.52 0-1.04.2-1.43.59L10.3 9.45l-7.72 7.72c-.78.78-.78 2.05 0 2.83L4 21.41c.39.39.9.59 1.41.59.51 0 1.02-.2 1.41-.59l7.78-7.78 2.81-2.81c.8-.78.8-2.07 0-2.86zM5.41 20L4 18.59l7.72-7.72 1.47 1.35L5.41 20z\"/>\n",
              "  </svg>\n",
              "      </button>\n",
              "      \n",
              "  <style>\n",
              "    .colab-df-container {\n",
              "      display:flex;\n",
              "      flex-wrap:wrap;\n",
              "      gap: 12px;\n",
              "    }\n",
              "\n",
              "    .colab-df-convert {\n",
              "      background-color: #E8F0FE;\n",
              "      border: none;\n",
              "      border-radius: 50%;\n",
              "      cursor: pointer;\n",
              "      display: none;\n",
              "      fill: #1967D2;\n",
              "      height: 32px;\n",
              "      padding: 0 0 0 0;\n",
              "      width: 32px;\n",
              "    }\n",
              "\n",
              "    .colab-df-convert:hover {\n",
              "      background-color: #E2EBFA;\n",
              "      box-shadow: 0px 1px 2px rgba(60, 64, 67, 0.3), 0px 1px 3px 1px rgba(60, 64, 67, 0.15);\n",
              "      fill: #174EA6;\n",
              "    }\n",
              "\n",
              "    [theme=dark] .colab-df-convert {\n",
              "      background-color: #3B4455;\n",
              "      fill: #D2E3FC;\n",
              "    }\n",
              "\n",
              "    [theme=dark] .colab-df-convert:hover {\n",
              "      background-color: #434B5C;\n",
              "      box-shadow: 0px 1px 3px 1px rgba(0, 0, 0, 0.15);\n",
              "      filter: drop-shadow(0px 1px 2px rgba(0, 0, 0, 0.3));\n",
              "      fill: #FFFFFF;\n",
              "    }\n",
              "  </style>\n",
              "\n",
              "      <script>\n",
              "        const buttonEl =\n",
              "          document.querySelector('#df-56574085-ee8f-4b44-a436-f43262606b32 button.colab-df-convert');\n",
              "        buttonEl.style.display =\n",
              "          google.colab.kernel.accessAllowed ? 'block' : 'none';\n",
              "\n",
              "        async function convertToInteractive(key) {\n",
              "          const element = document.querySelector('#df-56574085-ee8f-4b44-a436-f43262606b32');\n",
              "          const dataTable =\n",
              "            await google.colab.kernel.invokeFunction('convertToInteractive',\n",
              "                                                     [key], {});\n",
              "          if (!dataTable) return;\n",
              "\n",
              "          const docLinkHtml = 'Like what you see? Visit the ' +\n",
              "            '<a target=\"_blank\" href=https://colab.research.google.com/notebooks/data_table.ipynb>data table notebook</a>'\n",
              "            + ' to learn more about interactive tables.';\n",
              "          element.innerHTML = '';\n",
              "          dataTable['output_type'] = 'display_data';\n",
              "          await google.colab.output.renderOutput(dataTable, element);\n",
              "          const docLink = document.createElement('div');\n",
              "          docLink.innerHTML = docLinkHtml;\n",
              "          element.appendChild(docLink);\n",
              "        }\n",
              "      </script>\n",
              "    </div>\n",
              "  </div>\n",
              "  "
            ]
          },
          "metadata": {},
          "execution_count": 43
        }
      ]
    },
    {
      "cell_type": "code",
      "source": [
        "G = sg.StellarGraph(df_nodes, df_links)"
      ],
      "metadata": {
        "id": "q1miiEdZt5D7"
      },
      "execution_count": 48,
      "outputs": []
    },
    {
      "cell_type": "code",
      "execution_count": 49,
      "metadata": {
        "id": "XEIvR0O_dkV0",
        "outputId": "fc3fc0ec-cf69-451e-f806-65963a104ff9",
        "colab": {
          "base_uri": "https://localhost:8080/"
        }
      },
      "outputs": [
        {
          "output_type": "stream",
          "name": "stdout",
          "text": [
            "StellarGraph: Undirected multigraph\n",
            " Nodes: 44, Edges: 177\n",
            "\n",
            " Node types:\n",
            "  default: [44]\n",
            "    Features: float32 vector, length 100\n",
            "    Edge types: default-default->default\n",
            "\n",
            " Edge types:\n",
            "    default-default->default: [177]\n",
            "        Weights: all 1 (default)\n",
            "        Features: none\n"
          ]
        }
      ],
      "source": [
        "print(G.info())"
      ]
    },
    {
      "cell_type": "code",
      "execution_count": 50,
      "metadata": {
        "id": "oxz7ZEtadkV1",
        "outputId": "f35f6e18-2ee1-42da-d2ed-c615fb46020e",
        "colab": {
          "base_uri": "https://localhost:8080/"
        }
      },
      "outputs": [
        {
          "output_type": "stream",
          "name": "stdout",
          "text": [
            "** Sampled 17 positive and 17 negative edges. **\n"
          ]
        }
      ],
      "source": [
        "# Define an edge splitter on the original graph G:\n",
        "edge_splitter_test = EdgeSplitter(G)\n",
        "\n",
        "# Randomly sample a fraction p=0.1 of all positive links, and same number of negative links, from G, and obtain the\n",
        "# reduced graph G_test with the sampled links removed:\n",
        "G_test, edge_ids_test, edge_labels_test = edge_splitter_test.train_test_split(\n",
        "    p=0.1, method=\"global\", keep_connected=True\n",
        ")"
      ]
    },
    {
      "cell_type": "code",
      "execution_count": 51,
      "metadata": {
        "id": "MvBVb7fXdkV2",
        "outputId": "7aa64ff1-e3b9-4611-8aec-4ee5e61cf807",
        "colab": {
          "base_uri": "https://localhost:8080/"
        }
      },
      "outputs": [
        {
          "output_type": "stream",
          "name": "stdout",
          "text": [
            "** Sampled 16 positive and 16 negative edges. **\n"
          ]
        }
      ],
      "source": [
        "# Define an edge splitter on the reduced graph G_test:\n",
        "edge_splitter_train = EdgeSplitter(G_test)\n",
        "\n",
        "# Randomly sample a fraction p=0.1 of all positive links, and same number of negative links, from G_test, and obtain the\n",
        "# reduced graph G_train with the sampled links removed:\n",
        "G_train, edge_ids_train, edge_labels_train = edge_splitter_train.train_test_split(\n",
        "    p=0.1, method=\"global\", keep_connected=True\n",
        ")"
      ]
    },
    {
      "cell_type": "markdown",
      "metadata": {
        "id": "X7PdNIbUdkV3"
      },
      "source": [
        "Summary of G_train and G_test - (same set of nodes,  differing edges)"
      ]
    },
    {
      "cell_type": "code",
      "execution_count": 52,
      "metadata": {
        "id": "WNCga6oqdkV4",
        "outputId": "198adc43-1809-4e4c-e609-d47bfc8e7f88",
        "colab": {
          "base_uri": "https://localhost:8080/"
        }
      },
      "outputs": [
        {
          "output_type": "stream",
          "name": "stdout",
          "text": [
            "StellarGraph: Undirected multigraph\n",
            " Nodes: 44, Edges: 144\n",
            "\n",
            " Node types:\n",
            "  default: [44]\n",
            "    Features: float32 vector, length 100\n",
            "    Edge types: default-default->default\n",
            "\n",
            " Edge types:\n",
            "    default-default->default: [144]\n",
            "        Weights: all 1 (default)\n",
            "        Features: none\n"
          ]
        }
      ],
      "source": [
        "print(G_train.info())"
      ]
    },
    {
      "cell_type": "code",
      "execution_count": 53,
      "metadata": {
        "id": "vRtF1UOrdkV4",
        "outputId": "0dda5fb9-06cc-4255-a628-562a98a19894",
        "colab": {
          "base_uri": "https://localhost:8080/"
        }
      },
      "outputs": [
        {
          "output_type": "stream",
          "name": "stdout",
          "text": [
            "StellarGraph: Undirected multigraph\n",
            " Nodes: 44, Edges: 160\n",
            "\n",
            " Node types:\n",
            "  default: [44]\n",
            "    Features: float32 vector, length 100\n",
            "    Edge types: default-default->default\n",
            "\n",
            " Edge types:\n",
            "    default-default->default: [160]\n",
            "        Weights: all 1 (default)\n",
            "        Features: none\n"
          ]
        }
      ],
      "source": [
        "print(G_test.info())"
      ]
    },
    {
      "cell_type": "code",
      "execution_count": 54,
      "metadata": {
        "tags": [
          "parameters"
        ],
        "id": "DrvswHJydkV5"
      },
      "outputs": [],
      "source": [
        "batch_size = 20\n",
        "epochs = 20"
      ]
    },
    {
      "cell_type": "code",
      "execution_count": 55,
      "metadata": {
        "id": "FUI3BWxQdkV5"
      },
      "outputs": [],
      "source": [
        "num_samples = [20, 10]"
      ]
    },
    {
      "cell_type": "code",
      "execution_count": 56,
      "metadata": {
        "id": "E1op-g2UdkV6"
      },
      "outputs": [],
      "source": [
        "train_gen = GraphSAGELinkGenerator(G_train, batch_size, num_samples)\n",
        "train_flow = train_gen.flow(edge_ids_train, edge_labels_train, shuffle=True)"
      ]
    },
    {
      "cell_type": "code",
      "execution_count": 57,
      "metadata": {
        "id": "GtciT_k6dkV6"
      },
      "outputs": [],
      "source": [
        "test_gen = GraphSAGELinkGenerator(G_test, batch_size, num_samples)\n",
        "test_flow = test_gen.flow(edge_ids_test, edge_labels_test)"
      ]
    },
    {
      "cell_type": "code",
      "execution_count": 58,
      "metadata": {
        "id": "Ro_CZRvjdkV7"
      },
      "outputs": [],
      "source": [
        "layer_sizes = [20, 20]\n",
        "graphsage = GraphSAGE(\n",
        "    layer_sizes=layer_sizes, generator=train_gen, bias=True, dropout=0.3\n",
        ")"
      ]
    },
    {
      "cell_type": "code",
      "execution_count": 59,
      "metadata": {
        "id": "Q-9uVRdDdkV7"
      },
      "outputs": [],
      "source": [
        "# Build the model and expose input and output sockets of graphsage model\n",
        "# for link prediction\n",
        "x_inp, x_out = graphsage.in_out_tensors()"
      ]
    },
    {
      "cell_type": "code",
      "execution_count": 60,
      "metadata": {
        "id": "Y1vdE2hQdkV9",
        "outputId": "cfa0f914-49f0-4684-8681-790726583e0e",
        "colab": {
          "base_uri": "https://localhost:8080/"
        }
      },
      "outputs": [
        {
          "output_type": "stream",
          "name": "stdout",
          "text": [
            "link_classification: using 'ip' method to combine node embeddings into edge embeddings\n"
          ]
        }
      ],
      "source": [
        "prediction = link_classification(\n",
        "    output_dim=1, output_act=\"relu\", edge_embedding_method=\"ip\"\n",
        ")(x_out)"
      ]
    },
    {
      "cell_type": "code",
      "execution_count": 61,
      "metadata": {
        "id": "xru1pH6tdkV-",
        "colab": {
          "base_uri": "https://localhost:8080/"
        },
        "outputId": "5f511488-dda6-4de9-cd38-b6afb1a72643"
      },
      "outputs": [
        {
          "output_type": "stream",
          "name": "stderr",
          "text": [
            "/usr/local/lib/python3.7/dist-packages/keras/optimizer_v2/adam.py:105: UserWarning: The `lr` argument is deprecated, use `learning_rate` instead.\n",
            "  super(Adam, self).__init__(name, **kwargs)\n"
          ]
        }
      ],
      "source": [
        "model = keras.Model(inputs=x_inp, outputs=prediction)\n",
        "\n",
        "model.compile(\n",
        "    optimizer=keras.optimizers.Adam(lr=1e-3),\n",
        "    loss=keras.losses.binary_crossentropy,\n",
        "    metrics=[\"acc\"],\n",
        ")"
      ]
    },
    {
      "cell_type": "code",
      "execution_count": 62,
      "metadata": {
        "id": "PGvnydjpdkV-",
        "outputId": "286e1494-3543-4403-ed61-5d1604affc06",
        "colab": {
          "base_uri": "https://localhost:8080/"
        }
      },
      "outputs": [
        {
          "output_type": "stream",
          "name": "stdout",
          "text": [
            "2/2 [==============================] - 1s 25ms/step - loss: 1.0522 - acc: 0.5625\n",
            "2/2 [==============================] - 0s 20ms/step - loss: 0.9937 - acc: 0.5000\n",
            "\n",
            "Train Set Metrics of the initial (untrained) model:\n",
            "\tloss: 1.0522\n",
            "\tacc: 0.5625\n",
            "\n",
            "Test Set Metrics of the initial (untrained) model:\n",
            "\tloss: 0.9937\n",
            "\tacc: 0.5000\n"
          ]
        }
      ],
      "source": [
        "init_train_metrics = model.evaluate(train_flow)\n",
        "init_test_metrics = model.evaluate(test_flow)\n",
        "\n",
        "print(\"\\nTrain Set Metrics of the initial (untrained) model:\")\n",
        "for name, val in zip(model.metrics_names, init_train_metrics):\n",
        "    print(\"\\t{}: {:0.4f}\".format(name, val))\n",
        "\n",
        "print(\"\\nTest Set Metrics of the initial (untrained) model:\")\n",
        "for name, val in zip(model.metrics_names, init_test_metrics):\n",
        "    print(\"\\t{}: {:0.4f}\".format(name, val))"
      ]
    },
    {
      "cell_type": "markdown",
      "metadata": {
        "id": "kcdDcAgCdkV_"
      },
      "source": [
        "Training"
      ]
    },
    {
      "cell_type": "code",
      "execution_count": 63,
      "metadata": {
        "id": "3TdmglXMdkV_",
        "outputId": "9bb482ce-29c3-4baf-865e-4c13dc8f8e6d",
        "colab": {
          "base_uri": "https://localhost:8080/"
        }
      },
      "outputs": [
        {
          "output_type": "stream",
          "name": "stdout",
          "text": [
            "Epoch 1/20\n",
            "2/2 - 2s - loss: 0.6472 - acc: 0.5938 - val_loss: 0.9786 - val_acc: 0.5000 - 2s/epoch - 855ms/step\n",
            "Epoch 2/20\n",
            "2/2 - 0s - loss: 0.7387 - acc: 0.5312 - val_loss: 0.9562 - val_acc: 0.5000 - 159ms/epoch - 79ms/step\n",
            "Epoch 3/20\n",
            "2/2 - 0s - loss: 0.6764 - acc: 0.6562 - val_loss: 0.9225 - val_acc: 0.5294 - 156ms/epoch - 78ms/step\n",
            "Epoch 4/20\n",
            "2/2 - 0s - loss: 0.7315 - acc: 0.6250 - val_loss: 0.9252 - val_acc: 0.5294 - 154ms/epoch - 77ms/step\n",
            "Epoch 5/20\n",
            "2/2 - 0s - loss: 0.6235 - acc: 0.6562 - val_loss: 0.9170 - val_acc: 0.5294 - 157ms/epoch - 79ms/step\n",
            "Epoch 6/20\n",
            "2/2 - 0s - loss: 0.7486 - acc: 0.5000 - val_loss: 0.8986 - val_acc: 0.5000 - 165ms/epoch - 82ms/step\n",
            "Epoch 7/20\n",
            "2/2 - 0s - loss: 0.6374 - acc: 0.5625 - val_loss: 0.8819 - val_acc: 0.5294 - 162ms/epoch - 81ms/step\n",
            "Epoch 8/20\n",
            "2/2 - 0s - loss: 0.7028 - acc: 0.6875 - val_loss: 0.8631 - val_acc: 0.5000 - 158ms/epoch - 79ms/step\n",
            "Epoch 9/20\n",
            "2/2 - 0s - loss: 0.6717 - acc: 0.5938 - val_loss: 0.8868 - val_acc: 0.5000 - 161ms/epoch - 80ms/step\n",
            "Epoch 10/20\n",
            "2/2 - 0s - loss: 0.7426 - acc: 0.5938 - val_loss: 0.8670 - val_acc: 0.5294 - 160ms/epoch - 80ms/step\n",
            "Epoch 11/20\n",
            "2/2 - 0s - loss: 0.6307 - acc: 0.5938 - val_loss: 0.8938 - val_acc: 0.5000 - 156ms/epoch - 78ms/step\n",
            "Epoch 12/20\n",
            "2/2 - 0s - loss: 0.8490 - acc: 0.4375 - val_loss: 0.8779 - val_acc: 0.5588 - 166ms/epoch - 83ms/step\n",
            "Epoch 13/20\n",
            "2/2 - 0s - loss: 0.6445 - acc: 0.6250 - val_loss: 0.8762 - val_acc: 0.5588 - 159ms/epoch - 80ms/step\n",
            "Epoch 14/20\n",
            "2/2 - 0s - loss: 0.6438 - acc: 0.5938 - val_loss: 0.8828 - val_acc: 0.5588 - 155ms/epoch - 77ms/step\n",
            "Epoch 15/20\n",
            "2/2 - 0s - loss: 0.7755 - acc: 0.5312 - val_loss: 0.8465 - val_acc: 0.5294 - 156ms/epoch - 78ms/step\n",
            "Epoch 16/20\n",
            "2/2 - 0s - loss: 0.7134 - acc: 0.5625 - val_loss: 0.8625 - val_acc: 0.5588 - 152ms/epoch - 76ms/step\n",
            "Epoch 17/20\n",
            "2/2 - 0s - loss: 0.6407 - acc: 0.5938 - val_loss: 0.8514 - val_acc: 0.5588 - 163ms/epoch - 81ms/step\n",
            "Epoch 18/20\n",
            "2/2 - 0s - loss: 0.5971 - acc: 0.7188 - val_loss: 0.8699 - val_acc: 0.5294 - 169ms/epoch - 84ms/step\n",
            "Epoch 19/20\n",
            "2/2 - 0s - loss: 0.5231 - acc: 0.7188 - val_loss: 0.8558 - val_acc: 0.5882 - 154ms/epoch - 77ms/step\n",
            "Epoch 20/20\n",
            "2/2 - 0s - loss: 0.6624 - acc: 0.6562 - val_loss: 0.8235 - val_acc: 0.6176 - 158ms/epoch - 79ms/step\n"
          ]
        }
      ],
      "source": [
        "history = model.fit(train_flow, epochs=epochs, validation_data=test_flow, verbose=2)"
      ]
    },
    {
      "cell_type": "markdown",
      "metadata": {
        "id": "jXUHdpaQdkV_"
      },
      "source": [
        "Plot the training history:"
      ]
    },
    {
      "cell_type": "code",
      "execution_count": 64,
      "metadata": {
        "id": "IOAB4AyfdkV_",
        "outputId": "00c9b071-c3d9-4034-cfa0-7ae3192e1f2f",
        "colab": {
          "base_uri": "https://localhost:8080/",
          "height": 585
        }
      },
      "outputs": [
        {
          "output_type": "display_data",
          "data": {
            "text/plain": [
              "<Figure size 504x576 with 2 Axes>"
            ],
            "image/png": "[encoded data removed]"
          },
          "metadata": {
            "needs_background": "light"
          }
        }
      ],
      "source": [
        "sg.utils.plot_history(history)"
      ]
    },
    {
      "cell_type": "markdown",
      "metadata": {
        "id": "fe4PFQGpdkWA"
      },
      "source": [
        "Evaluate the trained model on test links:"
      ]
    },
    {
      "cell_type": "code",
      "execution_count": 65,
      "metadata": {
        "id": "8r782ZH9dkWA",
        "outputId": "54f21b48-3f12-465a-db33-161cf9ae8476",
        "colab": {
          "base_uri": "https://localhost:8080/"
        }
      },
      "outputs": [
        {
          "output_type": "stream",
          "name": "stdout",
          "text": [
            "2/2 [==============================] - 0s 26ms/step - loss: 0.8306 - acc: 0.6250\n",
            "2/2 [==============================] - 0s 18ms/step - loss: 0.8398 - acc: 0.5882\n",
            "\n",
            "Train Set Metrics of the trained model:\n",
            "\tloss: 0.8306\n",
            "\tacc: 0.6250\n",
            "\n",
            "Test Set Metrics of the trained model:\n",
            "\tloss: 0.8398\n",
            "\tacc: 0.5882\n"
          ]
        }
      ],
      "source": [
        "train_metrics = model.evaluate(train_flow)\n",
        "test_metrics = model.evaluate(test_flow)\n",
        "\n",
        "print(\"\\nTrain Set Metrics of the trained model:\")\n",
        "for name, val in zip(model.metrics_names, train_metrics):\n",
        "    print(\"\\t{}: {:0.4f}\".format(name, val))\n",
        "\n",
        "print(\"\\nTest Set Metrics of the trained model:\")\n",
        "for name, val in zip(model.metrics_names, test_metrics):\n",
        "    print(\"\\t{}: {:0.4f}\".format(name, val))"
      ]
    }
  ],
  "metadata": {
    "file_extension": ".py",
    "kernelspec": {
      "display_name": "Python 3",
      "language": "python",
      "name": "python3"
    },
    "language_info": {
      "codemirror_mode": {
        "name": "ipython",
        "version": 3
      },
      "file_extension": ".py",
      "mimetype": "text/x-python",
      "name": "python",
      "nbconvert_exporter": "python",
      "pygments_lexer": "ipython3",
      "version": "3.6.9"
    },
    "mimetype": "text/x-python",
    "name": "python",
    "npconvert_exporter": "python",
    "pygments_lexer": "ipython3",
    "version": 3,
    "colab": {
      "name": "stellargraph graphsage-link-prediction.ipynb",
      "provenance": []
    },
    "accelerator": "GPU"
  },
  "nbformat": 4,
  "nbformat_minor": 0
}